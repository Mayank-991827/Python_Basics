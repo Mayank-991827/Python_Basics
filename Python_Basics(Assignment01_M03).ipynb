{
  "nbformat": 4,
  "nbformat_minor": 0,
  "metadata": {
    "colab": {
      "provenance": []
    },
    "kernelspec": {
      "name": "python3",
      "display_name": "Python 3"
    },
    "language_info": {
      "name": "python"
    }
  },
  "cells": [
    {
      "cell_type": "markdown",
      "source": [
        "Q1) What is Python, and why is it popular? <br>\n",
        "A1) Python is a programming language which is used to create the programs using a special set of rules and symbol to simplify our work .<br>\n",
        "It is popular for following reasons:<br>\n",
        "a) Widely Used in the industries<br>\n",
        "b)large active community.<br>\n",
        "c)ease of learning<br>\n",
        "d) Versality and many more...<br>"
      ],
      "metadata": {
        "id": "AFQzfWY0MpPq"
      }
    },
    {
      "cell_type": "markdown",
      "source": [
        "Q2)What is an interpreter in Python ?<br>\n",
        "A2)It is a python program that runs the python code line by line and convert the code into machine code such that the computer can understand.\n",
        "\n",
        "\n"
      ],
      "metadata": {
        "id": "99GYP3FPPh60"
      }
    },
    {
      "cell_type": "markdown",
      "source": [
        "Q3)What are pre-defined keywords in Python?<br>\n",
        "A3)it is the words that has a special meaning and have special purpose in the python programming."
      ],
      "metadata": {
        "id": "N9JdEzweUY8t"
      }
    },
    {
      "cell_type": "markdown",
      "source": [
        "Q4)Can keywords be used as variable names ?<br>\n",
        "A4)Generally we don't have to use the keywords as variable name but if we use them then in the further code it is only defined as the variable name not as the keyword.<br>\n",
        "\n",
        "\n",
        "```\n",
        "print=5\n",
        "print(print)\n",
        "```\n",
        "here print is the variable name and then the compiler doesn't know the meaning of the print keyword. so it will show error in 2nd line."
      ],
      "metadata": {
        "id": "xPkT71HiV3ik"
      }
    },
    {
      "cell_type": "markdown",
      "source": [
        "Q5)What is mutability in Python ?<br>\n",
        "A5)Mutablility is the property of the data structure which allow us to make changes/edit in the data structure.<br>\n",
        "ex:-list.\n"
      ],
      "metadata": {
        "id": "mjK8lRo2jIfp"
      }
    },
    {
      "cell_type": "markdown",
      "source": [
        "Q6)Why are lists mutable, but tuples are immutable ?<br>\n",
        "A6)It is beacause the lists are dynamic data structure while Tuples are static data structure."
      ],
      "metadata": {
        "id": "_LR6l7G2joIZ"
      }
    },
    {
      "cell_type": "markdown",
      "source": [
        "Q7)What is the difference between “==” and “is” operators in Python ?<br>\n",
        "A7)\"==\" checks if two variables have the same value, while \"is\" checks if they refer to the same memory location. Lists with identical values can be \"==\" but not \"is\", unlike small immutable objects."
      ],
      "metadata": {
        "id": "K5lToBUokZNr"
      }
    },
    {
      "cell_type": "markdown",
      "source": [
        "Q8)What are logical operators in Python ?<br>\n",
        "A8)Logical Operators are the operators which is used to combine the conditional statements.There are 3 types of Logical Operators:<br>\n",
        "a)And (&&)<br>\n",
        "b)Or(||)<br>\n",
        "c)Not (!)"
      ],
      "metadata": {
        "id": "vEf3GPLpk9hz"
      }
    },
    {
      "cell_type": "markdown",
      "source": [
        "Q9)What is type casting in Python ?<br>\n",
        "A9)Type Casting is a process of converting one data type into another data type.<br>\n",
        "ex:-\n",
        "\n",
        "```\n",
        " a=5.7\n",
        "print(int(a))\n",
        "```\n",
        "\n",
        "Here, We convert the float into integer datatype.\n",
        "\n"
      ],
      "metadata": {
        "id": "AIw0p3CxLE5j"
      }
    },
    {
      "cell_type": "markdown",
      "source": [
        "Q10) What is the difference between implicit and explicit type casting ?<br>\n",
        "A10) Implicit type casting :- Converting the smaller data type into larger datatype to avoid the loss in the data.It is done by Python automatically.<br>\n",
        "ex:-\n",
        "\n",
        "```\n",
        "a=3+5.00\n",
        "print(a)\n",
        "```\n",
        "\n",
        "Explicit Type casting :- Converting the larger data type into smaller datatype. It is done by the Programmer.<br>\n",
        "ex:-\n",
        "```\n",
        "a=3+5.00\n",
        "print(int(a))\n",
        "```\n",
        "\n",
        "\n",
        "\n"
      ],
      "metadata": {
        "id": "meUmcwXzQfUj"
      }
    },
    {
      "cell_type": "markdown",
      "source": [
        "Q11)What is the purpose of conditional statements in Python ?<br>\n",
        "A11)It basic Purpose is to provide the starting and terminating condition to the flow of the program. Basically control the flow of execution."
      ],
      "metadata": {
        "id": "_Nn24STgRlkz"
      }
    },
    {
      "cell_type": "markdown",
      "source": [
        "Q12) How does the elif statement work ?<br>\n",
        "A12)Syntax:\n",
        "\n",
        "```\n",
        "if(condition 1){\n",
        "}\n",
        "elif(condition 2){\n",
        "}\n",
        ".\n",
        ".\n",
        ".\n",
        "else{\n",
        "}\n",
        "\n",
        "```\n",
        "\n",
        "first it will checck the condition for the if statement if it is not then correct then it will check the condition for the next elif condition till it is getting the some satisfied condition if it is not found then else condition will run at last.And if any of the condition is satisfied then it's internal body will run and no other condition in that if - elif -else condition."
      ],
      "metadata": {
        "id": "Dj1mo7G3xMHH"
      }
    },
    {
      "cell_type": "markdown",
      "source": [
        "Q13)What is the difference between for and while loops ?<br>\n",
        "A13)![image.png](data:image/png;base64,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)"
      ],
      "metadata": {
        "id": "jSD8Nrb-ypSV"
      }
    },
    {
      "cell_type": "markdown",
      "source": [
        "Q14)Describe a scenario where a while loop is more suitable than a for loop?<br>\n",
        "A14)While has an edge advantage over the for loop wherever we need the user to input and then we have to check the condition. <br>\n",
        "Ex:-user - login system,gameloop ,etc"
      ],
      "metadata": {
        "id": "WZgRWs7ay78n"
      }
    },
    {
      "cell_type": "code",
      "source": [
        "#Q1 Write a Python program to print \"Hello, World!\"\n",
        "print(\"Hello, World!\")"
      ],
      "metadata": {
        "id": "ZPBPi57yQPAn",
        "colab": {
          "base_uri": "https://localhost:8080/"
        },
        "outputId": "7dececec-c2c0-489b-e4e3-4401bf925875"
      },
      "execution_count": null,
      "outputs": [
        {
          "output_type": "stream",
          "name": "stdout",
          "text": [
            "Hello, World!\n"
          ]
        }
      ]
    },
    {
      "cell_type": "code",
      "source": [
        "#Q2 Write a Python program that displays your name and age\n",
        "name=input(\"Enter the name:\")\n",
        "age=int(input(\"Enter the age:\"))\n",
        "\n",
        "print(name,age)"
      ],
      "metadata": {
        "colab": {
          "base_uri": "https://localhost:8080/"
        },
        "id": "vdxYAIaizpow",
        "outputId": "716f21b5-7da1-474e-9e67-c674b3b24b0a"
      },
      "execution_count": null,
      "outputs": [
        {
          "output_type": "stream",
          "name": "stdout",
          "text": [
            "Enter the name:Mayank\n",
            "Enter the age:21\n",
            "Mayank 21\n"
          ]
        }
      ]
    },
    {
      "cell_type": "code",
      "source": [
        "import keyword\n",
        "#Q3  Write code to print all the pre-defined keywords in Python using the keyword library\n",
        "print(keyword.kwlist)"
      ],
      "metadata": {
        "colab": {
          "base_uri": "https://localhost:8080/"
        },
        "id": "ckS2kCLPz-zd",
        "outputId": "5400f8d0-1b00-4337-fed5-70e71bbb3f2f"
      },
      "execution_count": null,
      "outputs": [
        {
          "output_type": "stream",
          "name": "stdout",
          "text": [
            "['False', 'None', 'True', 'and', 'as', 'assert', 'async', 'await', 'break', 'class', 'continue', 'def', 'del', 'elif', 'else', 'except', 'finally', 'for', 'from', 'global', 'if', 'import', 'in', 'is', 'lambda', 'nonlocal', 'not', 'or', 'pass', 'raise', 'return', 'try', 'while', 'with', 'yield']\n"
          ]
        }
      ]
    },
    {
      "cell_type": "code",
      "source": [
        "#Q4  Write a program that checks if a given word is a Python keyword.\n",
        "print(keyword.kwlist)\n",
        "check=input(\"Enter a word:\")\n",
        "size=len(keyword.kwlist)\n",
        "flag=0;\n",
        "for i in range(size):\n",
        "    if(check==keyword.kwlist[i]):\n",
        "        print(\"It is the keyword.\")\n",
        "        flag=1\n",
        "if(flag==0):\n",
        "    print(\"It is not the Keyword.\")"
      ],
      "metadata": {
        "colab": {
          "base_uri": "https://localhost:8080/"
        },
        "id": "rnIkotqf0OAe",
        "outputId": "c2f2894b-0257-4399-81a8-015754cdf984"
      },
      "execution_count": null,
      "outputs": [
        {
          "output_type": "stream",
          "name": "stdout",
          "text": [
            "['False', 'None', 'True', 'and', 'as', 'assert', 'async', 'await', 'break', 'class', 'continue', 'def', 'del', 'elif', 'else', 'except', 'finally', 'for', 'from', 'global', 'if', 'import', 'in', 'is', 'lambda', 'nonlocal', 'not', 'or', 'pass', 'raise', 'return', 'try', 'while', 'with', 'yield']\n",
            "Enter a word:mayank\n",
            "It is not the Keyword.\n"
          ]
        }
      ]
    },
    {
      "cell_type": "code",
      "source": [
        "#Q5  Create a list and tuple in Python, and demonstrate how attempting to change an element works differently for each.\n",
        "list1=[1,2,3,4,5,6]\n",
        "print(list1)\n",
        "list1[3]=10\n",
        "print(list1)\n",
        "\n",
        "tuple1=(1,2,3,4,5,6)\n",
        "print(tuple1)\n",
        "tuple[3]=10\n",
        "print(tuple1)"
      ],
      "metadata": {
        "id": "2T7d-bgS0q7i",
        "colab": {
          "base_uri": "https://localhost:8080/",
          "height": 245
        },
        "outputId": "4ee05e62-7b64-4cc7-d33c-91f9f20eaf9b"
      },
      "execution_count": null,
      "outputs": [
        {
          "output_type": "stream",
          "name": "stdout",
          "text": [
            "[1, 2, 3, 4, 5, 6]\n",
            "[1, 2, 3, 10, 5, 6]\n",
            "(1, 2, 3, 4, 5, 6)\n"
          ]
        },
        {
          "output_type": "error",
          "ename": "TypeError",
          "evalue": "'type' object does not support item assignment",
          "traceback": [
            "\u001b[0;31m---------------------------------------------------------------------------\u001b[0m",
            "\u001b[0;31mTypeError\u001b[0m                                 Traceback (most recent call last)",
            "\u001b[0;32m<ipython-input-13-5cb512216687>\u001b[0m in \u001b[0;36m<cell line: 0>\u001b[0;34m()\u001b[0m\n\u001b[1;32m      7\u001b[0m \u001b[0mtuple1\u001b[0m\u001b[0;34m=\u001b[0m\u001b[0;34m(\u001b[0m\u001b[0;36m1\u001b[0m\u001b[0;34m,\u001b[0m\u001b[0;36m2\u001b[0m\u001b[0;34m,\u001b[0m\u001b[0;36m3\u001b[0m\u001b[0;34m,\u001b[0m\u001b[0;36m4\u001b[0m\u001b[0;34m,\u001b[0m\u001b[0;36m5\u001b[0m\u001b[0;34m,\u001b[0m\u001b[0;36m6\u001b[0m\u001b[0;34m)\u001b[0m\u001b[0;34m\u001b[0m\u001b[0;34m\u001b[0m\u001b[0m\n\u001b[1;32m      8\u001b[0m \u001b[0mprint\u001b[0m\u001b[0;34m(\u001b[0m\u001b[0mtuple1\u001b[0m\u001b[0;34m)\u001b[0m\u001b[0;34m\u001b[0m\u001b[0;34m\u001b[0m\u001b[0m\n\u001b[0;32m----> 9\u001b[0;31m \u001b[0mtuple\u001b[0m\u001b[0;34m[\u001b[0m\u001b[0;36m3\u001b[0m\u001b[0;34m]\u001b[0m\u001b[0;34m=\u001b[0m\u001b[0;36m10\u001b[0m\u001b[0;34m\u001b[0m\u001b[0;34m\u001b[0m\u001b[0m\n\u001b[0m\u001b[1;32m     10\u001b[0m \u001b[0mprint\u001b[0m\u001b[0;34m(\u001b[0m\u001b[0mtuple1\u001b[0m\u001b[0;34m)\u001b[0m\u001b[0;34m\u001b[0m\u001b[0;34m\u001b[0m\u001b[0m\n",
            "\u001b[0;31mTypeError\u001b[0m: 'type' object does not support item assignment"
          ]
        }
      ]
    },
    {
      "cell_type": "code",
      "source": [
        "#Q6  Write a function to demonstrate the behavior of mutable and immutable arguments.\n",
        "#didn't get the question please explain me and provide me the answers\n"
      ],
      "metadata": {
        "id": "5T6ljHv2-aAv"
      },
      "execution_count": null,
      "outputs": []
    },
    {
      "cell_type": "code",
      "source": [
        "#Q7 Write a program that performs basic arithmetic operations on two user-input numbers.\n",
        "num1=int(input(\"Enter the number1:\"))\n",
        "num2=int(input(\"Enter the number2:\"))\n",
        "print(\"Addition: \", num1+num2)\n",
        "\n",
        "print(\"Subtraction: \", num1-num2)\n",
        "\n",
        "print(\"Multiplication: \", num1*num2)\n",
        "\n",
        "print(\"Division: \", float(num1/num2))"
      ],
      "metadata": {
        "colab": {
          "base_uri": "https://localhost:8080/"
        },
        "id": "8ZEDybxS_SUO",
        "outputId": "c7245f05-3c71-4761-eb5b-46b041777908"
      },
      "execution_count": null,
      "outputs": [
        {
          "output_type": "stream",
          "name": "stdout",
          "text": [
            "Enter the number1:9\n",
            "Enter the number2:2\n",
            "Addition:  11\n",
            "Subtraction:  7\n",
            "Multiplication:  18\n",
            "Division:  4.5\n"
          ]
        }
      ]
    },
    {
      "cell_type": "code",
      "source": [
        "#Q8 Write a program to demonstrate the use of logical operators.\n",
        "a=[0,1]\n",
        "for i in range(0,2):\n",
        "  for j in range(0,2):\n",
        "    print(\"AND for a[i] And a[j]:\" ,a[i] and a[j])\n",
        "    print(\"OR for a[i] Or a[j]:\" ,a[i] or a[j])\n",
        "  print(\"NOT for a[i]: \", not a[i])"
      ],
      "metadata": {
        "colab": {
          "base_uri": "https://localhost:8080/"
        },
        "id": "9tdYWjMY_vgv",
        "outputId": "76ab3ca9-266e-4f01-b1ac-2b95d95ec893"
      },
      "execution_count": null,
      "outputs": [
        {
          "output_type": "stream",
          "name": "stdout",
          "text": [
            "AND for a[i] And a[j]: 0\n",
            "OR for a[i] Or a[j]: 0\n",
            "AND for a[i] And a[j]: 0\n",
            "OR for a[i] Or a[j]: 1\n",
            "NOT for a[i]:  True\n",
            "AND for a[i] And a[j]: 0\n",
            "OR for a[i] Or a[j]: 1\n",
            "AND for a[i] And a[j]: 1\n",
            "OR for a[i] Or a[j]: 1\n",
            "NOT for a[i]:  False\n"
          ]
        }
      ]
    },
    {
      "cell_type": "code",
      "source": [
        "#Q9 Write a Python program to convert user input from string to integer, float, and boolean types.\n",
        "string =input(\"Enter the string:\")\n",
        "print(\"Integer:\",int(string))\n",
        "print(\"Float:\",float(string))\n",
        "print(\"Boolean:\",bool(int(string)))"
      ],
      "metadata": {
        "colab": {
          "base_uri": "https://localhost:8080/"
        },
        "id": "9qRTjKKcFhOP",
        "outputId": "6e00089a-3665-49b5-953f-fe38fe09da36"
      },
      "execution_count": null,
      "outputs": [
        {
          "output_type": "stream",
          "name": "stdout",
          "text": [
            "Enter the string:0\n",
            "Integer: 0\n",
            "Float: 0.0\n",
            "Boolean: False\n"
          ]
        }
      ]
    },
    {
      "cell_type": "code",
      "source": [
        "#Q10 Write code to demonstrate type casting with list elements.\n",
        "\n",
        "list2=[1,2,\"mayank\",0,5.443]\n",
        "size=len(list2)\n",
        "for i in range(size):\n",
        "  list2[i]=str(list2[i])\n",
        "  print(list2[i])\n",
        "  print(type(list2[i]))"
      ],
      "metadata": {
        "colab": {
          "base_uri": "https://localhost:8080/"
        },
        "id": "Qwp1Rw6OJqm2",
        "outputId": "ef6f6d5d-d236-42f4-8ece-c0a63cd773f6"
      },
      "execution_count": null,
      "outputs": [
        {
          "output_type": "stream",
          "name": "stdout",
          "text": [
            "1\n",
            "<class 'str'>\n",
            "2\n",
            "<class 'str'>\n",
            "mayank\n",
            "<class 'str'>\n",
            "0\n",
            "<class 'str'>\n",
            "5.443\n",
            "<class 'str'>\n"
          ]
        }
      ]
    },
    {
      "cell_type": "code",
      "source": [
        "#Q11  Write a program that checks if a number is positive, negative, or zero.\n",
        "num=int(input(\"Enter the number:\"))\n",
        "if(num==0):\n",
        "  print(\"Number is Zero.\")\n",
        "else:\n",
        "  if(num>0):\n",
        "    print(\"Number is Positive.\")\n",
        "  else:\n",
        "    print(\"Number is Negative.\")"
      ],
      "metadata": {
        "colab": {
          "base_uri": "https://localhost:8080/"
        },
        "id": "VX5Y1Pf1K2yZ",
        "outputId": "2278a126-cfe9-43ff-ba13-e5c3e1e74800"
      },
      "execution_count": null,
      "outputs": [
        {
          "output_type": "stream",
          "name": "stdout",
          "text": [
            "Enter the number:-12\n",
            "Number is Negative.\n"
          ]
        }
      ]
    },
    {
      "cell_type": "code",
      "source": [
        "#Q12  Write a for loop to print numbers from 1 to 10.\n",
        "for i in range(1,11):\n",
        "  print(i)"
      ],
      "metadata": {
        "colab": {
          "base_uri": "https://localhost:8080/"
        },
        "id": "fPsUmrgTLYTQ",
        "outputId": "fbe2ee8d-2e0b-4201-a788-01ab25b865e0"
      },
      "execution_count": null,
      "outputs": [
        {
          "output_type": "stream",
          "name": "stdout",
          "text": [
            "1\n",
            "2\n",
            "3\n",
            "4\n",
            "5\n",
            "6\n",
            "7\n",
            "8\n",
            "9\n",
            "10\n"
          ]
        }
      ]
    },
    {
      "cell_type": "code",
      "source": [
        "#Q13 Write a Python program to find the sum of all even numbers between 1 and 50.\n",
        "sum=0\n",
        "for i in range(1,51):\n",
        "  if(i%2==0):\n",
        "    sum=sum+i\n",
        "print(sum)"
      ],
      "metadata": {
        "colab": {
          "base_uri": "https://localhost:8080/"
        },
        "id": "k4MMef5hLg6H",
        "outputId": "e98e76b3-6051-4c04-bc4f-4a02ff0f5fc4"
      },
      "execution_count": null,
      "outputs": [
        {
          "output_type": "stream",
          "name": "stdout",
          "text": [
            "650\n"
          ]
        }
      ]
    },
    {
      "cell_type": "code",
      "source": [
        "#Q14 Write a program to reverse a string using a while loop.\n",
        "string=\"Mayank\"\n",
        "size=len(string)-1\n",
        "\n",
        "while(size!=-1):\n",
        "    print(string[size],end=\"\")\n",
        "    size=size-1\n"
      ],
      "metadata": {
        "colab": {
          "base_uri": "https://localhost:8080/"
        },
        "id": "RxN3paxpLyb1",
        "outputId": "4a0d908b-17d9-4c00-b79a-ddf0c38022b5"
      },
      "execution_count": null,
      "outputs": [
        {
          "output_type": "stream",
          "name": "stdout",
          "text": [
            "knayaM"
          ]
        }
      ]
    },
    {
      "cell_type": "code",
      "source": [
        "#Q15 Write a Python program to calculate the factorial of a number provided by the user using a while loop.\n",
        "\n",
        "num=5\n",
        "i=1\n",
        "fact=1\n",
        "while(i!=num+1):\n",
        "  fact=fact*i\n",
        "  i=i+1\n",
        "print(fact)"
      ],
      "metadata": {
        "colab": {
          "base_uri": "https://localhost:8080/"
        },
        "id": "-0HGnrH6PreD",
        "outputId": "8c3b14c6-d91d-41a9-f4e7-4fc85ff4477f"
      },
      "execution_count": null,
      "outputs": [
        {
          "output_type": "stream",
          "name": "stdout",
          "text": [
            "120\n"
          ]
        }
      ]
    },
    {
      "cell_type": "markdown",
      "source": [],
      "metadata": {
        "id": "jgKAXWQ4FBu5"
      }
    }
  ]
}