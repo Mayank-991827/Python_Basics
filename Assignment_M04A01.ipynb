{
  "nbformat": 4,
  "nbformat_minor": 0,
  "metadata": {
    "colab": {
      "provenance": []
    },
    "kernelspec": {
      "name": "python3",
      "display_name": "Python 3"
    },
    "language_info": {
      "name": "python"
    }
  },
  "cells": [
    {
      "cell_type": "markdown",
      "source": [
        "Q1)What are data structures, and why are they important?<br>\n",
        "A1)Data structures are ways of organizing and storing data efficiently for easy access and modification. They are important because they determine the performance of operations such as searching, sorting, and data manipulation."
      ],
      "metadata": {
        "id": "8zeo8PN_GN37"
      }
    },
    {
      "cell_type": "markdown",
      "source": [
        "Q2) Explain the difference between mutable and immutable data types with examples?<br>\n",
        "A2)Mutable data types are the data types in which we can change the value.<br>\n",
        "ex:-list,dict, set,etc.<br>\n",
        "immutable data types are the data types in which we can not change the value.<br>\n",
        "ex:-tuple"
      ],
      "metadata": {
        "id": "WjUrL3g8GlPo"
      }
    },
    {
      "cell_type": "markdown",
      "source": [
        "Q3)What are the main differences between lists and tuples in Python?<br>\n",
        "A3)Lists are mutable, tuples are immutable.<br>\n",
        "Lists use more memory than tuples due to extra flexibility.<br>\n",
        "Tuples have faster iteration due to immutability.<br>"
      ],
      "metadata": {
        "id": "uLLVNB7ZHDTE"
      }
    },
    {
      "cell_type": "markdown",
      "source": [
        "Q4)Describe how dictionaries store data.\n",
        "A4)Dictionaries store data as key-value pairs using a hash table for fast lookups.\n",
        "\n",
        "```\n",
        "my_dict = {\"name\": \"Alice\", \"age\": 25}\n",
        "\n",
        "```\n",
        "\n"
      ],
      "metadata": {
        "id": "5SdOb8rkHQUG"
      }
    },
    {
      "cell_type": "markdown",
      "source": [
        "Q5)Why might you use a set instead of a list in Python3?<br>\n",
        "A5)Sets store unique elements (remove duplicates automatically).<br>\n",
        "Sets allow faster lookups (O(1)) than lists (O(n)).\n"
      ],
      "metadata": {
        "id": "-WBttWYpHuio"
      }
    },
    {
      "cell_type": "markdown",
      "source": [
        "Q6) What is a string in Python, and how is it different from a list?<br>\n",
        "A6)A string is a sequence of characters, immutable like tuples.<br>\n",
        "A list is mutable and can store different types of elements."
      ],
      "metadata": {
        "id": "whVWdGvIH0o8"
      }
    },
    {
      "cell_type": "markdown",
      "source": [
        "Q7) How do tuples ensure data integrity in Python?<br>\n",
        "A7)Since tuples are immutable, they prevent accidental modification, making them useful for constants."
      ],
      "metadata": {
        "id": "ZL2Co_AMH-OQ"
      }
    },
    {
      "cell_type": "markdown",
      "source": [
        "Q8) What is a hash table, and how does it relate to dictionaries in Python?<br>\n",
        "A8)A hash table stores key-value pairs using a hashing function.\n",
        "Python’s dict is implemented as a hash table, allowing fast O(1) lookups."
      ],
      "metadata": {
        "id": "aPLpiyfqIGC6"
      }
    },
    {
      "cell_type": "markdown",
      "source": [
        "Q9)Can lists contain different data types in Python?<br>\n",
        "A9)Yes, Python lists can hold mixed types.\n",
        "\n",
        "\n",
        "```\n",
        "my_list=[1,2,3.3,\"mayank\",4+5j]\n",
        "```\n",
        "\n",
        "\n"
      ],
      "metadata": {
        "id": "sJlesBEQIVKy"
      }
    },
    {
      "cell_type": "markdown",
      "source": [
        "Q10) Explain why strings are immutable in Python.<br>\n",
        "A10) Strings are immutable for security, performance, and hashability (used as dictionary keys)."
      ],
      "metadata": {
        "id": "IanLIL7mIlB9"
      }
    },
    {
      "cell_type": "markdown",
      "source": [
        "Q11) What advantages do dictionaries offer over lists for certain tasks?<br>\n",
        "A11)Faster lookups (O(1) in dict vs. O(n) in lists).<br>\n",
        "Meaningful key-value association rather than index-based access."
      ],
      "metadata": {
        "id": "KZfdS0AIIxTD"
      }
    },
    {
      "cell_type": "markdown",
      "source": [
        "Q12) Describe a scenario where using a tuple would be preferable over a list.<br>\n",
        "A12)Storing coordinates ((x, y, z)) or database records where data should not change."
      ],
      "metadata": {
        "id": "HDVm7bfRI5CN"
      }
    },
    {
      "cell_type": "markdown",
      "source": [
        "Q13) How do sets handle duplicate values in Python?<br>\n",
        "A13)Sets automatically remove duplicates upon insertion.\n",
        "\n",
        "\n",
        "\n",
        "\n",
        "```\n",
        "my_set = {1, 2, 2, 3}  # Output: {1, 2, 3}\n",
        "\n",
        "```\n",
        "\n",
        "\n"
      ],
      "metadata": {
        "id": "KJnZVlO_JCjO"
      }
    },
    {
      "cell_type": "markdown",
      "source": [
        "Q14) How does the in keyword work differently for lists and dictionaries?<br>\n",
        "A14)Lists: in searches element-wise (O(n)).<br>\n",
        "Dictionaries: in checks keys only (O(1)).\n",
        "\n",
        "```\n",
        "print(2 in [1, 2, 3])  # True\n",
        "print(2 in {2: \"value\"})  # True\n",
        "\n",
        "```\n",
        "\n"
      ],
      "metadata": {
        "id": "VruWXpSfJOcH"
      }
    },
    {
      "cell_type": "markdown",
      "source": [
        "Q15) Can you modify the elements of a tuple? Explain why or why not.<br>\n",
        "A15)No, tuples are immutable, so elements cannot be changed after creation."
      ],
      "metadata": {
        "id": "P1bEcRg6JegH"
      }
    },
    {
      "cell_type": "markdown",
      "source": [
        "Q16) What is a nested dictionary, and give an example of its use case?<br>\n",
        "A16) A dictionary containing another dictionary.\n",
        "\n",
        "```\n",
        "student = {\n",
        "    \"name\": \"Alice\",\n",
        "    \"marks\": {\"math\": 90, \"science\": 85}\n",
        "}\n",
        "\n",
        "```\n",
        "\n"
      ],
      "metadata": {
        "id": "G7KA9lKqJmgV"
      }
    },
    {
      "cell_type": "markdown",
      "source": [
        "Q17) Describe the time complexity of accessing elements in a dictionary.<br>\n",
        "A17) Average case: O(1) (hash table lookup).\n",
        "Worst case: O(n) (if hashing causes collisions)."
      ],
      "metadata": {
        "id": "XVY12HEsJ2Hx"
      }
    },
    {
      "cell_type": "markdown",
      "source": [
        "Q18)In what situations are lists preferred over dictionaries?<br>\n",
        "A18) When order matters.\n",
        "When keys are unnecessary (e.g., sequential processing)."
      ],
      "metadata": {
        "id": "gVhz5IKaKAxN"
      }
    },
    {
      "cell_type": "markdown",
      "source": [
        "Q19) Why are dictionaries considered unordered, and how does that affect data retrieval?<br>\n",
        "A19)Before Python 3.7, dictionaries did not maintain insertion order.<br>\n",
        "In Python 3.7+, they retain order but should not be relied upon in older versions."
      ],
      "metadata": {
        "id": "xxCEFWE1KHpY"
      }
    },
    {
      "cell_type": "markdown",
      "source": [
        "Q20) Explain the difference between a list and a dictionary in terms of data retrieval.<br>\n",
        "A20)List: Access by index (O(1)).<br>\n",
        "Dictionary: Access by key (O(1)) but requires meaningful keys"
      ],
      "metadata": {
        "id": "PFbz61bhKM4L"
      }
    },
    {
      "cell_type": "code",
      "source": [
        "#Q1)Write a code to create a string with your name and print it.\n",
        "output=input(\"Enter the name:\")\n",
        "print(output)"
      ],
      "metadata": {
        "colab": {
          "base_uri": "https://localhost:8080/"
        },
        "id": "6Hn60dI9KcBw",
        "outputId": "35d0619f-bb46-481b-d5b5-2f90787e92e9"
      },
      "execution_count": 1,
      "outputs": [
        {
          "output_type": "stream",
          "name": "stdout",
          "text": [
            "Enter the name:Mayank\n",
            "Mayank\n"
          ]
        }
      ]
    },
    {
      "cell_type": "code",
      "source": [
        "#Q2) Write a code to find the length of the string \"Hello World\"\n",
        "string=\"Hello world\"\n",
        "len(string)"
      ],
      "metadata": {
        "colab": {
          "base_uri": "https://localhost:8080/"
        },
        "id": "QkQS27xQKpHk",
        "outputId": "5ab76939-413b-4410-ba26-e8b6e51641a9"
      },
      "execution_count": 2,
      "outputs": [
        {
          "output_type": "execute_result",
          "data": {
            "text/plain": [
              "11"
            ]
          },
          "metadata": {},
          "execution_count": 2
        }
      ]
    },
    {
      "cell_type": "code",
      "source": [
        "#Q3)Write a code to slice the first 3 characters from the string \"Python Programming\"\n",
        "string=\"Python Programming\"\n",
        "string[0:3]"
      ],
      "metadata": {
        "colab": {
          "base_uri": "https://localhost:8080/",
          "height": 36
        },
        "id": "zeFMzqXDK2Fe",
        "outputId": "7b8d89d7-410e-48d6-d3f3-904a906119d3"
      },
      "execution_count": 3,
      "outputs": [
        {
          "output_type": "execute_result",
          "data": {
            "text/plain": [
              "'Pyt'"
            ],
            "application/vnd.google.colaboratory.intrinsic+json": {
              "type": "string"
            }
          },
          "metadata": {},
          "execution_count": 3
        }
      ]
    },
    {
      "cell_type": "code",
      "source": [
        "#Q4)Write a code to convert the string \"hello\" to uppercase\n",
        "string=\"hello\"\n",
        "string.upper()"
      ],
      "metadata": {
        "colab": {
          "base_uri": "https://localhost:8080/",
          "height": 36
        },
        "id": "dcedVIQNLCfZ",
        "outputId": "9a113ed9-6c56-49f2-f61c-fde5e356dc31"
      },
      "execution_count": 4,
      "outputs": [
        {
          "output_type": "execute_result",
          "data": {
            "text/plain": [
              "'HELLO'"
            ],
            "application/vnd.google.colaboratory.intrinsic+json": {
              "type": "string"
            }
          },
          "metadata": {},
          "execution_count": 4
        }
      ]
    },
    {
      "cell_type": "code",
      "source": [
        "#Q5)Write a code to replace the word \"apple\" with \"orange\" in the string \"I like apple\"\n",
        "string= \"I like apple\"\n",
        "string.replace(\"apple\",\"orange\")"
      ],
      "metadata": {
        "colab": {
          "base_uri": "https://localhost:8080/",
          "height": 36
        },
        "id": "i6y83wyULMHl",
        "outputId": "b98faec2-7a1a-4ef4-991c-1b67aae4903c"
      },
      "execution_count": 5,
      "outputs": [
        {
          "output_type": "execute_result",
          "data": {
            "text/plain": [
              "'I like orange'"
            ],
            "application/vnd.google.colaboratory.intrinsic+json": {
              "type": "string"
            }
          },
          "metadata": {},
          "execution_count": 5
        }
      ]
    },
    {
      "cell_type": "code",
      "source": [
        "#Q6) Write a code to create a list with numbers 1 to 5 and print it.\n",
        "list=[]\n",
        "for i in range(1,6):\n",
        "  list.append(i)\n",
        "list"
      ],
      "metadata": {
        "colab": {
          "base_uri": "https://localhost:8080/"
        },
        "id": "EcSUXIY9Lbiy",
        "outputId": "36fd752d-9f45-432a-c8c9-7adc58610b86"
      },
      "execution_count": 6,
      "outputs": [
        {
          "output_type": "execute_result",
          "data": {
            "text/plain": [
              "[1, 2, 3, 4, 5]"
            ]
          },
          "metadata": {},
          "execution_count": 6
        }
      ]
    },
    {
      "cell_type": "code",
      "source": [
        "#Q7)Write a code to append the number 10 to the list [1, 2, 3, 4]\n",
        "list=[1,2,3,4]\n",
        "list.append(10)\n",
        "list"
      ],
      "metadata": {
        "colab": {
          "base_uri": "https://localhost:8080/"
        },
        "id": "BGxC3XuuLkl7",
        "outputId": "652ef040-df68-4399-a0d1-edebce22918c"
      },
      "execution_count": 8,
      "outputs": [
        {
          "output_type": "execute_result",
          "data": {
            "text/plain": [
              "[1, 2, 3, 4, 10]"
            ]
          },
          "metadata": {},
          "execution_count": 8
        }
      ]
    },
    {
      "cell_type": "code",
      "source": [
        "#Q8)Write a code to remove the number 3 from the list [1, 2, 3, 4, 5]\n",
        "list=[1,2,3,4,5]\n",
        "list.remove(3)\n",
        "list"
      ],
      "metadata": {
        "colab": {
          "base_uri": "https://localhost:8080/"
        },
        "id": "msqbiBnEL7Uj",
        "outputId": "f23e519d-f05e-47ad-d88b-f749e6352fec"
      },
      "execution_count": 9,
      "outputs": [
        {
          "output_type": "execute_result",
          "data": {
            "text/plain": [
              "[1, 2, 4, 5]"
            ]
          },
          "metadata": {},
          "execution_count": 9
        }
      ]
    },
    {
      "cell_type": "code",
      "source": [
        "#Q9) Write a code to access the second element in the list ['a', 'b', 'c', 'd']\n",
        "list= ['a', 'b', 'c', 'd']\n",
        "list[1]"
      ],
      "metadata": {
        "colab": {
          "base_uri": "https://localhost:8080/",
          "height": 36
        },
        "id": "KaMlA6xqMF0H",
        "outputId": "b7dd964e-ee6e-423c-8c2e-3d52b6167653"
      },
      "execution_count": 10,
      "outputs": [
        {
          "output_type": "execute_result",
          "data": {
            "text/plain": [
              "'b'"
            ],
            "application/vnd.google.colaboratory.intrinsic+json": {
              "type": "string"
            }
          },
          "metadata": {},
          "execution_count": 10
        }
      ]
    },
    {
      "cell_type": "code",
      "source": [
        "#Q10)Write a code to reverse the list [10, 20, 30, 40, 50].\n",
        "list=[10,20,30,40,50]\n",
        "list[::-1]"
      ],
      "metadata": {
        "colab": {
          "base_uri": "https://localhost:8080/"
        },
        "id": "aoSrXxjxMTc_",
        "outputId": "b0b22eba-cac7-4533-ec17-e9b25b772058"
      },
      "execution_count": 11,
      "outputs": [
        {
          "output_type": "execute_result",
          "data": {
            "text/plain": [
              "[50, 40, 30, 20, 10]"
            ]
          },
          "metadata": {},
          "execution_count": 11
        }
      ]
    },
    {
      "cell_type": "code",
      "source": [
        "#Q11) Write a code to create a tuple with the elements 100, 200, 300 and print it.\n",
        "t=(100,200,300)\n",
        "t"
      ],
      "metadata": {
        "colab": {
          "base_uri": "https://localhost:8080/"
        },
        "id": "L1UMt4ASMf8N",
        "outputId": "ff3564e8-91c6-4781-84c4-c1f321eec055"
      },
      "execution_count": 13,
      "outputs": [
        {
          "output_type": "execute_result",
          "data": {
            "text/plain": [
              "(100, 200, 300)"
            ]
          },
          "metadata": {},
          "execution_count": 13
        }
      ]
    },
    {
      "cell_type": "code",
      "source": [
        "#Q12)Write a code to access the second-to-last element of the tuple ('red', 'green', 'blue', 'yellow')\n",
        "t=('red', 'green', 'blue', 'yellow')\n",
        "t[1:]"
      ],
      "metadata": {
        "colab": {
          "base_uri": "https://localhost:8080/"
        },
        "id": "ePsIiM9aNDjy",
        "outputId": "f21d294b-6f99-493d-fe0e-76ad82a5b869"
      },
      "execution_count": 14,
      "outputs": [
        {
          "output_type": "execute_result",
          "data": {
            "text/plain": [
              "('green', 'blue', 'yellow')"
            ]
          },
          "metadata": {},
          "execution_count": 14
        }
      ]
    },
    {
      "cell_type": "code",
      "source": [
        "#Q13)Write a code to find the minimum number in the tuple (10, 20, 5, 15).\n",
        "t=(10, 20, 5, 15)\n",
        "min =t[0]\n",
        "for i in t:\n",
        "  if(i<min):\n",
        "    min=i\n",
        "print(min)"
      ],
      "metadata": {
        "colab": {
          "base_uri": "https://localhost:8080/"
        },
        "id": "1MZC0B0SNTMB",
        "outputId": "07337244-dd25-4ff1-bae3-65595166fe9c"
      },
      "execution_count": 16,
      "outputs": [
        {
          "output_type": "stream",
          "name": "stdout",
          "text": [
            "5\n"
          ]
        }
      ]
    },
    {
      "cell_type": "code",
      "source": [
        "#Q14) Write a code to find the index of the element \"cat\" in the tuple ('dog', 'cat', 'rabbit').\n",
        "t=('dog', 'cat', 'rabbit')\n",
        "t.index(\"cat\")"
      ],
      "metadata": {
        "colab": {
          "base_uri": "https://localhost:8080/"
        },
        "id": "iwKTwyWxNgwH",
        "outputId": "dcabd4e5-f8f0-4759-cbdb-cbbd0c9b5d5b"
      },
      "execution_count": 20,
      "outputs": [
        {
          "output_type": "execute_result",
          "data": {
            "text/plain": [
              "1"
            ]
          },
          "metadata": {},
          "execution_count": 20
        }
      ]
    },
    {
      "cell_type": "code",
      "source": [
        "#Q15) Write a code to create a tuple containing three different fruits and check if \"kiwi\" is in it.\n",
        "fruits = (\"apple\", \"banana\", \"cherry\")\n",
        "\n",
        "if \"kiwi\" in fruits:\n",
        "    print(\"Kiwi is in the tuple!\")\n",
        "else:\n",
        "    print(\"Kiwi is not in the tuple.\")\n"
      ],
      "metadata": {
        "colab": {
          "base_uri": "https://localhost:8080/"
        },
        "id": "VYI1iWnDN_Ig",
        "outputId": "5af4484c-5c1f-4b73-8796-5c44d9af1b48"
      },
      "execution_count": 21,
      "outputs": [
        {
          "output_type": "stream",
          "name": "stdout",
          "text": [
            "Kiwi is not in the tuple.\n"
          ]
        }
      ]
    },
    {
      "cell_type": "code",
      "source": [
        "#Q16). Write a code to create a set with the elements 'a', 'b', 'c' and print it\n",
        "s={'a','b','c'}\n",
        "s"
      ],
      "metadata": {
        "colab": {
          "base_uri": "https://localhost:8080/"
        },
        "id": "wT7o93SbOe-p",
        "outputId": "a5af62b5-43a0-475e-eafb-1eab49427480"
      },
      "execution_count": 22,
      "outputs": [
        {
          "output_type": "execute_result",
          "data": {
            "text/plain": [
              "{'a', 'b', 'c'}"
            ]
          },
          "metadata": {},
          "execution_count": 22
        }
      ]
    },
    {
      "cell_type": "code",
      "source": [
        "#Q17) Write a code to clear all elements from the set {1, 2, 3, 4, 5}.\n",
        "s={1, 2, 3, 4, 5}\n",
        "print(s)\n",
        "s.clear()\n",
        "print(s)"
      ],
      "metadata": {
        "colab": {
          "base_uri": "https://localhost:8080/"
        },
        "id": "lI4XwYOROqDB",
        "outputId": "331d2abe-25ff-4f03-bdf5-d1a78072a760"
      },
      "execution_count": 23,
      "outputs": [
        {
          "output_type": "stream",
          "name": "stdout",
          "text": [
            "{1, 2, 3, 4, 5}\n",
            "set()\n"
          ]
        }
      ]
    },
    {
      "cell_type": "code",
      "source": [
        "#Q18) Write a code to remove the element 4 from the set {1, 2, 3, 4}.\n",
        "s={1,2,3,4}\n",
        "s.remove(4)\n",
        "s"
      ],
      "metadata": {
        "colab": {
          "base_uri": "https://localhost:8080/"
        },
        "id": "dXMgtwuhO0qo",
        "outputId": "6513dfb6-13e1-4266-b882-0e83d9c60ee7"
      },
      "execution_count": 24,
      "outputs": [
        {
          "output_type": "execute_result",
          "data": {
            "text/plain": [
              "{1, 2, 3}"
            ]
          },
          "metadata": {},
          "execution_count": 24
        }
      ]
    },
    {
      "cell_type": "code",
      "source": [
        "#Q19)Write a code to find the union of two sets {1, 2, 3} and {3, 4, 5}.\n",
        "s1={1,2,3}\n",
        "s2={3,4,5}\n",
        "s1|s2"
      ],
      "metadata": {
        "colab": {
          "base_uri": "https://localhost:8080/"
        },
        "id": "AEdTTGb8O9BK",
        "outputId": "6159d5f9-681f-4914-dbfc-8d9cc255e7ef"
      },
      "execution_count": 26,
      "outputs": [
        {
          "output_type": "execute_result",
          "data": {
            "text/plain": [
              "{1, 2, 3, 4, 5}"
            ]
          },
          "metadata": {},
          "execution_count": 26
        }
      ]
    },
    {
      "cell_type": "code",
      "source": [
        "#Q20)Write a code to find the intersection of two sets {1, 2, 3} and {2, 3, 4}.\n",
        "s1={1,2,3}\n",
        "s2={2,3,4}\n",
        "s1 &s2"
      ],
      "metadata": {
        "colab": {
          "base_uri": "https://localhost:8080/"
        },
        "id": "dVpX-FwqPHum",
        "outputId": "175a2e9a-4042-41f1-abda-3e4bd6c96da2"
      },
      "execution_count": 27,
      "outputs": [
        {
          "output_type": "execute_result",
          "data": {
            "text/plain": [
              "{2, 3}"
            ]
          },
          "metadata": {},
          "execution_count": 27
        }
      ]
    },
    {
      "cell_type": "code",
      "source": [
        "#Q21)Write a code to create a dictionary with the keys \"name\", \"age\", and \"city\", and print it.\n",
        "d={\"name\":\"Mayank\",\"age\":20,\"city\":\"Ghaziabad\"}\n",
        "d"
      ],
      "metadata": {
        "colab": {
          "base_uri": "https://localhost:8080/"
        },
        "id": "_g22HG4pPV7y",
        "outputId": "228f98ef-f6cc-4d8b-9c3e-6c448357c0e6"
      },
      "execution_count": 30,
      "outputs": [
        {
          "output_type": "execute_result",
          "data": {
            "text/plain": [
              "{'name': 'Mayank', 'age': 20, 'city': 'Ghaziabad'}"
            ]
          },
          "metadata": {},
          "execution_count": 30
        }
      ]
    },
    {
      "cell_type": "code",
      "source": [
        "#Q22) Write a code to add a new key-value pair \"country\": \"USA\" to the dictionary {'name': 'John', 'age': 25}.\n",
        "d2= {'name': 'John', 'age': 25}\n",
        "print(d2)\n",
        "d2[\"country\"]= \"USA\"\n",
        "print(d2)"
      ],
      "metadata": {
        "colab": {
          "base_uri": "https://localhost:8080/"
        },
        "id": "cQzFN973PlYP",
        "outputId": "c57f2791-7f71-47b4-f3be-69b01e17b278"
      },
      "execution_count": 34,
      "outputs": [
        {
          "output_type": "stream",
          "name": "stdout",
          "text": [
            "{'name': 'John', 'age': 25}\n",
            "{'name': 'John', 'age': 25, 'country': 'USA'}\n"
          ]
        }
      ]
    },
    {
      "cell_type": "code",
      "source": [
        "#Q23) Write a code to access the value associated with the key \"name\" in the dictionary {'name': 'Alice', 'age': 30}.\n",
        "d3= {'name': 'Alice', 'age': 30}\n",
        "d3[\"name\"]"
      ],
      "metadata": {
        "colab": {
          "base_uri": "https://localhost:8080/",
          "height": 36
        },
        "id": "vAyvN1aNP5VC",
        "outputId": "c88b257e-5ef0-448c-cfca-138a6e835522"
      },
      "execution_count": 35,
      "outputs": [
        {
          "output_type": "execute_result",
          "data": {
            "text/plain": [
              "'Alice'"
            ],
            "application/vnd.google.colaboratory.intrinsic+json": {
              "type": "string"
            }
          },
          "metadata": {},
          "execution_count": 35
        }
      ]
    },
    {
      "cell_type": "code",
      "source": [
        "#Q24) Write a code to remove the key \"age\" from the dictionary {'name': 'Bob', 'age': 22, 'city': 'New York'}.\n",
        "d4={'name': 'Bob', 'age': 22, 'city': 'New York'}\n",
        "del d4[\"age\"]\n",
        "d4\n"
      ],
      "metadata": {
        "colab": {
          "base_uri": "https://localhost:8080/"
        },
        "id": "2wTWxgoRQXGY",
        "outputId": "2789e260-02f9-4e5a-9447-eab5121e4f88"
      },
      "execution_count": 38,
      "outputs": [
        {
          "output_type": "execute_result",
          "data": {
            "text/plain": [
              "{'name': 'Bob', 'city': 'New York'}"
            ]
          },
          "metadata": {},
          "execution_count": 38
        }
      ]
    },
    {
      "cell_type": "code",
      "source": [
        "#Q25)Write a code to check if the key \"city\" exists in the dictionary {'name': 'Alice', 'city': 'Paris'}\n",
        "d5={'name': 'Alice', 'city': 'Paris'}\n",
        "for i in d5.keys():\n",
        "  if(i==\"city\"):\n",
        "    print(True)\n",
        ""
      ],
      "metadata": {
        "colab": {
          "base_uri": "https://localhost:8080/"
        },
        "id": "lZtt0vjJQjso",
        "outputId": "f2fbdcf6-990b-44d6-db75-8314b153c9bd"
      },
      "execution_count": 40,
      "outputs": [
        {
          "output_type": "stream",
          "name": "stdout",
          "text": [
            "True\n"
          ]
        }
      ]
    },
    {
      "cell_type": "code",
      "source": [
        "#Q26) Write a code to create a list, a tuple, and a dictionary, and print them all.\n",
        "my_list = [1, 2, 3, 4, 5]\n",
        "my_tuple = (\"apple\", \"banana\", \"cherry\")\n",
        "my_dict = {\"name\": \"Alice\", \"age\": 25, \"city\": \"New York\"}\n",
        "\n",
        "print(\"List:\", my_list)\n",
        "print(\"Tuple:\", my_tuple)\n",
        "print(\"Dictionary:\", my_dict)\n"
      ],
      "metadata": {
        "colab": {
          "base_uri": "https://localhost:8080/"
        },
        "id": "s0mKqe_8RFAe",
        "outputId": "219cdbfe-6795-434f-cd96-72e6f42ca274"
      },
      "execution_count": 41,
      "outputs": [
        {
          "output_type": "stream",
          "name": "stdout",
          "text": [
            "List: [1, 2, 3, 4, 5]\n",
            "Tuple: ('apple', 'banana', 'cherry')\n",
            "Dictionary: {'name': 'Alice', 'age': 25, 'city': 'New York'}\n"
          ]
        }
      ]
    },
    {
      "cell_type": "code",
      "source": [
        "#Q27)Write a code to create a list of 5 random numbers between 1 and 100, sort it in ascending order, and print the result.(replaced)\n",
        "import random\n",
        "\n",
        "numbers = [random.randint(1, 100) for _ in range(5)]  # Generate 5 random numbers\n",
        "numbers.sort()  # Sort in ascending order\n",
        "\n",
        "print(\"Sorted List:\", numbers)\n"
      ],
      "metadata": {
        "colab": {
          "base_uri": "https://localhost:8080/"
        },
        "id": "QlzZiiu4RUYK",
        "outputId": "90ca5560-9113-4079-986c-2896ee6503a7"
      },
      "execution_count": 42,
      "outputs": [
        {
          "output_type": "stream",
          "name": "stdout",
          "text": [
            "Sorted List: [14, 15, 29, 72, 88]\n"
          ]
        }
      ]
    },
    {
      "cell_type": "code",
      "source": [
        "#Q28)Write a code to create a list with strings and print the element at the third index.\n",
        "my_list = [\"apple\", \"banana\", \"cherry\", \"kiwi\", \"mango\"]\n",
        "\n",
        "print(\"Element at index 3:\", my_list[3])\n"
      ],
      "metadata": {
        "colab": {
          "base_uri": "https://localhost:8080/"
        },
        "id": "bEpW1uzqRf4d",
        "outputId": "0d019409-5353-4d51-80b8-473cd80f9dcb"
      },
      "execution_count": 43,
      "outputs": [
        {
          "output_type": "stream",
          "name": "stdout",
          "text": [
            "Element at index 3: kiwi\n"
          ]
        }
      ]
    },
    {
      "cell_type": "code",
      "source": [
        "#Q29) Write a code to combine two dictionaries into one and print the result.\n",
        "d3.update(d4)\n",
        "print(\"Combined Dictionary:\", d3)\n"
      ],
      "metadata": {
        "colab": {
          "base_uri": "https://localhost:8080/"
        },
        "id": "9PTYRnYzRqG-",
        "outputId": "def5a43f-2234-4229-c721-dcfdd97fed69"
      },
      "execution_count": 44,
      "outputs": [
        {
          "output_type": "stream",
          "name": "stdout",
          "text": [
            "Combined Dictionary: {'name': 'Bob', 'age': 30, 'city': 'New York'}\n"
          ]
        }
      ]
    },
    {
      "cell_type": "code",
      "source": [
        "#Q30) Write a code to convert a list of strings into a set\n",
        "my_list = [\"apple\", \"banana\", \"cherry\", \"apple\", \"banana\"]\n",
        "\n",
        "my_set = set(my_list)  # Convert list to set\n",
        "\n",
        "print(\"Set:\", my_set)\n"
      ],
      "metadata": {
        "colab": {
          "base_uri": "https://localhost:8080/"
        },
        "id": "UKOzdHtnR6Ox",
        "outputId": "79a12544-3569-4c80-b056-12a4ce8d3224"
      },
      "execution_count": 46,
      "outputs": [
        {
          "output_type": "stream",
          "name": "stdout",
          "text": [
            "Set: {'apple', 'cherry', 'banana'}\n"
          ]
        }
      ]
    },
    {
      "cell_type": "code",
      "source": [],
      "metadata": {
        "id": "FKAiJyruSFeL"
      },
      "execution_count": null,
      "outputs": []
    }
  ]
}